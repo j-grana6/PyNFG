{
 "metadata": {
  "name": "Simple Level K Example"
 },
 "nbformat": 3,
 "nbformat_minor": 0,
 "worksheets": [
  {
   "cells": [
    {
     "cell_type": "heading",
     "level": 1,
     "metadata": {},
     "source": [
      "Simple Level-K Example using PyNFG"
     ]
    },
    {
     "cell_type": "code",
     "collapsed": false,
     "input": [
      "import pynfg\n",
      "import copy as cp\n",
      "from pynfg.rlsolutions.mcrl import ewma_mcrl\n",
      "import numpy as np\n",
      "##  This is with pylab so numpy is already imported"
     ],
     "language": "python",
     "metadata": {},
     "outputs": [],
     "prompt_number": "*"
    },
    {
     "cell_type": "heading",
     "level": 1,
     "metadata": {},
     "source": [
      "The Game"
     ]
    },
    {
     "cell_type": "markdown",
     "metadata": {},
     "source": [
      "All players pick a number between 0 and 100. The person closest to half the average wins.  In this case, there are no chance nodes and no edges.  That is why this is a 'simple' example.  Let's assume that all players are level 1 except 1 player who is level 2.  That means that all of the level 1 players will have a level-1 strategy of guessing 50 while player 1 should guess 25."
     ]
    },
    {
     "cell_type": "code",
     "collapsed": false,
     "input": [
      "strat_space = np.arange(0,101,1).reshape(101,1)\n",
      "num_lev1=20"
     ],
     "language": "python",
     "metadata": {},
     "outputs": [],
     "prompt_number": 128
    },
    {
     "cell_type": "code",
     "collapsed": false,
     "input": [
      "CPT = np.ones(101)/101.  ## Uniform Distribution over strategy space\n",
      "Dhigh = pynfg.DecisionNode('Dhigh', 'Dhigh', strat_space, basename='Dhigh', time=0)\n",
      "players = {}\n",
      "players['Dhigh'] = Dhigh\n",
      "for player in range(num_lev1):\n",
      "    players['D'+str(player)] = (pynfg.DecisionNode('D'+str(player), 'D'+str(player), strat_space, basename = 'D'+str(player), time=0))"
     ],
     "language": "python",
     "metadata": {},
     "outputs": [],
     "prompt_number": 129
    },
    {
     "cell_type": "markdown",
     "metadata": {},
     "source": [
      "As a note, figuring out the most efficient way to create a function that takes a subset of nodes as an input was very difficult.  I think we should have a clear example here."
     ]
    },
    {
     "cell_type": "code",
     "collapsed": false,
     "input": [
      "def closest(**kwargs):\n",
      "    mean_over2 = (sum(kwargs.values())/float(len(kwargs.values())))/2.\n",
      "    diffdict = cp.copy(kwargs)\n",
      "    for dn in diffdict.keys():\n",
      "        diffdict[dn] = abs(diffdict[dn]-mean_over2)\n",
      "    return min(diffdict, key=diffdict.get)\n",
      "    \n",
      "    \n",
      "    "
     ],
     "language": "python",
     "metadata": {},
     "outputs": [],
     "prompt_number": 130
    },
    {
     "cell_type": "markdown",
     "metadata": {},
     "source": [
      "We need to generate a reward function for each person, even though the deterministic node is going to give us a 'winner.'  For a medium/long term goal we should consider letting the user enter a 'winner' function that assigns a reward to the winner and a penalty (possibly 0) to the losers.  This would avoid having to generate a reward function for each player.  "
     ]
    },
    {
     "cell_type": "code",
     "collapsed": false,
     "input": [
      "rwds = {}\n",
      "for player in players:\n",
      "    def reward(winner = 'nobody'):  ## winner is a DeterNode\n",
      "        \"\"\"\n",
      "        Parameters\n",
      "        ----------\n",
      "        p_guess: an individual players guess\n",
      "        allguess: a list containing all player's guess\n",
      "        \"\"\"\n",
      "        if winner == player:\n",
      "            return 1\n",
      "        else:\n",
      "            return 0\n",
      "    rwds[player] = reward\n",
      "    "
     ],
     "language": "python",
     "metadata": {},
     "outputs": [],
     "prompt_number": 131
    },
    {
     "cell_type": "markdown",
     "metadata": {},
     "source": [
      "Now we need to define a deterministic node that outputs the winner.  Also, the input of the 'closest' function is a dict.  That means the params has to be a dict where one of the values is a dict.  "
     ]
    },
    {
     "cell_type": "code",
     "collapsed": false,
     "input": [
      "winner = pynfg.DeterNode('winner', closest, players, continuous=0, space =players.keys(), description = 'Says who wins', time=0, basename='winner')"
     ],
     "language": "python",
     "metadata": {},
     "outputs": [],
     "prompt_number": 132
    },
    {
     "cell_type": "code",
     "collapsed": false,
     "input": [
      "nodeset = set(players.values())"
     ],
     "language": "python",
     "metadata": {},
     "outputs": [],
     "prompt_number": 133
    },
    {
     "cell_type": "code",
     "collapsed": false,
     "input": [
      "nodeset.add(winner)"
     ],
     "language": "python",
     "metadata": {},
     "outputs": [],
     "prompt_number": 134
    },
    {
     "cell_type": "code",
     "collapsed": false,
     "input": [
      "G=pynfg.iterSemiNFG(nodeset, rwds)"
     ],
     "language": "python",
     "metadata": {},
     "outputs": [],
     "prompt_number": 135
    },
    {
     "cell_type": "code",
     "collapsed": false,
     "input": [
      "G.draw_graph()"
     ],
     "language": "python",
     "metadata": {},
     "outputs": [
      {
       "output_type": "display_data",
       "png": "[encoded data removed]"
      }
     ],
     "prompt_number": 136
    },
    {
     "cell_type": "markdown",
     "metadata": {},
     "source": [
      "There is a bug here.  I believe a decision node without any parent needs to have the CPT reshaped.  Nevertheless, something is wrong because I cannot create a random CPT."
     ]
    },
    {
     "cell_type": "code",
     "collapsed": false,
     "input": [
      "for dn in G.node_dict:\n",
      "    if isinstance(G.node_dict[dn], pynfg.DecisionNode):\n",
      "        G.bn_part[dn][0].uniformCPT()\n",
      "# G.bn_part['Dhigh'][0].randomCPT()\n",
      "    "
     ],
     "language": "python",
     "metadata": {},
     "outputs": [],
     "prompt_number": 147
    },
    {
     "cell_type": "markdown",
     "metadata": {},
     "source": [
      "If you want to run this without installing my distro, you need to get rid of the verbose.  All the screen printing was getting annoying so I made the iteration counter an optional argument.  Also, I am getting an error whwn pureout=1.  Haven't dug into the mcrl code yet though so I'm not sure what's going on. "
     ]
    },
    {
     "cell_type": "code",
     "collapsed": false,
     "input": [
      "G1 = ewma_mcrl(G, 'Dhigh', J=30, N=1000, alpha = .01, delta = 0, eps=.9, uni=1, verbose=0)"
     ],
     "language": "python",
     "metadata": {},
     "outputs": [],
     "prompt_number": "*"
    },
    {
     "cell_type": "code",
     "collapsed": false,
     "input": [
      "a=G.bn_part['Dhigh'][0]"
     ],
     "language": "python",
     "metadata": {},
     "outputs": [],
     "prompt_number": 153
    },
    {
     "cell_type": "code",
     "collapsed": false,
     "input": [
      "max(a.CPT)"
     ],
     "language": "python",
     "metadata": {},
     "outputs": [
      {
       "output_type": "pyout",
       "prompt_number": 154,
       "text": [
        "0.99993985883143444"
       ]
      }
     ],
     "prompt_number": 154
    },
    {
     "cell_type": "code",
     "collapsed": false,
     "input": [
      "[a.CPT==max(a.CPT)]"
     ],
     "language": "python",
     "metadata": {},
     "outputs": [
      {
       "output_type": "pyout",
       "prompt_number": 155,
       "text": [
        "[array([False, False, False, False, False,  True, False, False, False,\n",
        "       False, False, False, False, False, False, False, False, False,\n",
        "       False, False, False, False, False, False, False, False, False,\n",
        "       False, False, False, False, False, False, False, False, False,\n",
        "       False, False, False, False, False, False, False, False, False,\n",
        "       False, False, False, False, False, False, False, False, False,\n",
        "       False, False, False, False, False, False, False, False, False,\n",
        "       False, False, False, False, False, False, False, False, False,\n",
        "       False, False, False, False, False, False, False, False, False,\n",
        "       False, False, False, False, False, False, False, False, False,\n",
        "       False, False, False, False, False, False, False, False, False,\n",
        "       False, False], dtype=bool)]"
       ]
      }
     ],
     "prompt_number": 155
    },
    {
     "cell_type": "code",
     "collapsed": false,
     "input": [
      "a.CPT[40:66]"
     ],
     "language": "python",
     "metadata": {},
     "outputs": [
      {
       "output_type": "pyout",
       "prompt_number": 146,
       "text": [
        "array([  5.18726043e-08,   1.80362935e-08,   1.35398940e-06,\n",
        "         1.12951914e-08,   1.30408971e-08,   6.80799841e-06,\n",
        "         1.06460460e-08,   1.39296991e-08,   8.75965015e-07,\n",
        "         1.35884576e-07,   2.18849483e-08,   1.35183962e-07,\n",
        "         1.78846143e-08,   1.32089087e-08,   1.82251882e-06,\n",
        "         9.92574953e-08,   1.30068104e-08,   1.94343543e-08,\n",
        "         1.48868537e-08,   3.37038464e-07,   1.55366099e-07,\n",
        "         9.22253580e-09,   1.49591305e-08,   1.18065765e-08,\n",
        "         2.12936722e-08,   1.18237021e-08])"
       ]
      }
     ],
     "prompt_number": 146
    },
    {
     "cell_type": "code",
     "collapsed": false,
     "input": [],
     "language": "python",
     "metadata": {},
     "outputs": [],
     "prompt_number": 142
    },
    {
     "cell_type": "code",
     "collapsed": false,
     "input": [],
     "language": "python",
     "metadata": {},
     "outputs": [],
     "prompt_number": 142
    }
   ],
   "metadata": {}
  }
 ]
}