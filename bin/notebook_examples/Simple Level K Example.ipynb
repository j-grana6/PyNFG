{
 "metadata": {
  "name": "Simple Level K Example"
 },
 "nbformat": 3,
 "nbformat_minor": 0,
 "worksheets": [
  {
   "cells": [
    {
     "cell_type": "heading",
     "level": 1,
     "metadata": {},
     "source": [
      "Simple Level-K Example using PyNFG"
     ]
    },
    {
     "cell_type": "code",
     "collapsed": false,
     "input": [
      "import pynfg\n",
      "import copy as cp\n",
      "from pynfg.rlsolutions.mcrl import ewma_mcrl\n",
      "import numpy as np\n",
      "##  This is with pylab so numpy is already imported"
     ],
     "language": "python",
     "metadata": {},
     "outputs": [],
     "prompt_number": 1
    },
    {
     "cell_type": "heading",
     "level": 1,
     "metadata": {},
     "source": [
      "The Game"
     ]
    },
    {
     "cell_type": "markdown",
     "metadata": {},
     "source": [
      "All players pick a number between 0 and 100. The person closest to half the average wins.  In this case, there are no chance nodes and no edges.  That is why this is a 'simple' example.  Let's assume that all players are level 1 except 1 player who is level 2.  That means that all of the level 1 players will have a level-1 strategy of guessing 50 while player 1 should guess 25."
     ]
    },
    {
     "cell_type": "code",
     "collapsed": false,
     "input": [
      "strat_space = np.arange(0,101,1).reshape(101,1)\n",
      "num_lev1=5"
     ],
     "language": "python",
     "metadata": {},
     "outputs": [],
     "prompt_number": 2
    },
    {
     "cell_type": "code",
     "collapsed": false,
     "input": [
      "def rootfun():\n",
      "    return 'The root'\n",
      "\n",
      "rootnode = pynfg.DeterNode('root', rootfun, {}, 0, space = ['The root'], time= 0, basename = 'root')"
     ],
     "language": "python",
     "metadata": {},
     "outputs": [],
     "prompt_number": 3
    },
    {
     "cell_type": "code",
     "collapsed": false,
     "input": [
      "CPT = np.ones(101)/101.  ## Uniform Distribution over strategy space\n",
      "Dhigh = pynfg.DecisionNode('Dhigh', 'Dhigh', strat_space, [rootnode], basename='Dhigh', time=0)\n",
      "players = {}\n",
      "players['Dhigh'] = Dhigh\n",
      "for player in range(num_lev1):\n",
      "    players['D'+str(player)] = (pynfg.DecisionNode('D'+str(player), 'D'+str(player), list(strat_space), [rootnode], basename = 'D'+str(player), time=0))"
     ],
     "language": "python",
     "metadata": {},
     "outputs": [],
     "prompt_number": 4
    },
    {
     "cell_type": "markdown",
     "metadata": {},
     "source": [
      "As a note, figuring out the most efficient way to create a function that takes a subset of nodes as an input was very difficult.  I think we should have a clear example here."
     ]
    },
    {
     "cell_type": "code",
     "collapsed": false,
     "input": [
      "def closest(**kwargs):\n",
      "    mean_over2 = (sum(kwargs.values())/float(len(kwargs.values())))/2.\n",
      "    diffdict = cp.copy(kwargs)\n",
      "    for dn in diffdict.keys():\n",
      "        diffdict[dn] = abs(diffdict[dn]-mean_over2)\n",
      "    return min(diffdict, key=diffdict.get)\n",
      "    \n",
      "    \n",
      "    "
     ],
     "language": "python",
     "metadata": {},
     "outputs": [],
     "prompt_number": 5
    },
    {
     "cell_type": "markdown",
     "metadata": {},
     "source": [
      "We need to generate a reward function for each person, even though the deterministic node is going to give us a 'winner.'  For a medium/long term goal we should consider letting the user enter a 'winner' function that assigns a reward to the winner and a penalty (possibly 0) to the losers.  This would avoid having to generate a reward function for each player.  "
     ]
    },
    {
     "cell_type": "code",
     "collapsed": false,
     "input": [
      "rwds = {}\n",
      "for player in players:\n",
      "    def reward(winner = 'nobody'):  ## winner is a DeterNode\n",
      "        \"\"\"\n",
      "        Parameters\n",
      "        ----------\n",
      "        p_guess: an individual players guess\n",
      "        allguess: a list containing all player's guess\n",
      "        \"\"\"\n",
      "        if winner == player:\n",
      "            return 1\n",
      "        else:\n",
      "            return 0\n",
      "    rwds[player] = reward\n",
      "    "
     ],
     "language": "python",
     "metadata": {},
     "outputs": [],
     "prompt_number": 6
    },
    {
     "cell_type": "markdown",
     "metadata": {},
     "source": [
      "Now we need to define a deterministic node that outputs the winner.  Also, the input of the 'closest' function is a dict.  That means the params has to be a dict where one of the values is a dict.  "
     ]
    },
    {
     "cell_type": "code",
     "collapsed": false,
     "input": [
      "winner = pynfg.DeterNode('winner', closest, players, continuous=0, space =players.keys(), description = 'Says who wins', time=0, basename='winner')"
     ],
     "language": "python",
     "metadata": {},
     "outputs": [],
     "prompt_number": 7
    },
    {
     "cell_type": "code",
     "collapsed": false,
     "input": [
      "nodeset = set(players.values())"
     ],
     "language": "python",
     "metadata": {},
     "outputs": [],
     "prompt_number": 8
    },
    {
     "cell_type": "code",
     "collapsed": false,
     "input": [
      "nodeset.add(winner)\n",
      "nodeset.add(rootnode)"
     ],
     "language": "python",
     "metadata": {},
     "outputs": [],
     "prompt_number": 9
    },
    {
     "cell_type": "code",
     "collapsed": false,
     "input": [
      "G=pynfg.iterSemiNFG(nodeset, rwds)"
     ],
     "language": "python",
     "metadata": {},
     "outputs": [],
     "prompt_number": 10
    },
    {
     "cell_type": "code",
     "collapsed": false,
     "input": [
      "G.draw_graph()"
     ],
     "language": "python",
     "metadata": {},
     "outputs": [
      {
       "output_type": "display_data",
       "png": "[encoded data removed]"
      }
     ],
     "prompt_number": 11
    },
    {
     "cell_type": "markdown",
     "metadata": {},
     "source": [
      "There is a bug here.  In order to create a random, pure CPT, I needed to create a rootnode.  The reason is that if a decision node does not have a parent, it's CPT is only 1 dimension.  For example, in this case if I didn't add the root node the G.bn_part['Dhigh'][0].CPT.shape would be (101,), not (1,101).  "
     ]
    },
    {
     "cell_type": "code",
     "collapsed": false,
     "input": [
      "for dn in G.node_dict:\n",
      "    if isinstance(G.node_dict[dn], pynfg.DecisionNode):\n",
      "        G.bn_part[dn][0].uniformCPT()\n",
      "G.bn_part['Dhigh'][0].randomCPT(mixed=True)"
     ],
     "language": "python",
     "metadata": {},
     "outputs": [],
     "prompt_number": 17
    },
    {
     "cell_type": "markdown",
     "metadata": {},
     "source": [
      "Now, I am using rl on a one time step problem but I cannot for the life of me get it converge to 50.  What is going wrong here?"
     ]
    },
    {
     "cell_type": "code",
     "collapsed": false,
     "input": [
      "G1 = ewma_mcrl(G, 'Dhigh', J=100, N=90, alpha = 1, delta = 0, eps=.1, uni=0, pureout=0, verbose=False)"
     ],
     "language": "python",
     "metadata": {},
     "outputs": [
      {
       "output_type": "display_data",
       "png": "[encoded data removed]"
      }
     ],
     "prompt_number": 18
    },
    {
     "cell_type": "code",
     "collapsed": false,
     "input": [
      "Dhigh=G.bn_part['Dhigh'][0]"
     ],
     "language": "python",
     "metadata": {},
     "outputs": [],
     "prompt_number": 19
    },
    {
     "cell_type": "code",
     "collapsed": false,
     "input": [
      "np.max(Dhigh.CPT)  #Highest probability strategy"
     ],
     "language": "python",
     "metadata": {},
     "outputs": [
      {
       "output_type": "pyout",
       "prompt_number": 20,
       "text": [
        "0.11261608789293261"
       ]
      }
     ],
     "prompt_number": 20
    },
    {
     "cell_type": "code",
     "collapsed": false,
     "input": [
      "print 'The level 1 solution is ', np.argmax(Dhigh.CPT)  # The solution"
     ],
     "language": "python",
     "metadata": {},
     "outputs": [
      {
       "output_type": "stream",
       "stream": "stdout",
       "text": [
        "The level 1 solution is  28\n"
       ]
      }
     ],
     "prompt_number": 21
    },
    {
     "cell_type": "code",
     "collapsed": false,
     "input": [],
     "language": "python",
     "metadata": {},
     "outputs": [],
     "prompt_number": 21
    },
    {
     "cell_type": "code",
     "collapsed": false,
     "input": [],
     "language": "python",
     "metadata": {},
     "outputs": [],
     "prompt_number": 16
    },
    {
     "cell_type": "code",
     "collapsed": false,
     "input": [],
     "language": "python",
     "metadata": {},
     "outputs": [],
     "prompt_number": 16
    }
   ],
   "metadata": {}
  }
 ]
}